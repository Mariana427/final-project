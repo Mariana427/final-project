{
 "cells": [
  {
   "cell_type": "markdown",
   "metadata": {},
   "source": [
    "# Analysis of response data from BuzzFeed News / Ipsos Public Affairs survey on news platform trust\n",
    "\n",
    "Note: Survey was fielded Jan. 12 & 13, 2017."
   ]
  },
  {
   "cell_type": "markdown",
   "metadata": {},
   "source": [
    "## Load and tidy-ify the data"
   ]
  },
  {
   "cell_type": "code",
   "execution_count": 1,
   "metadata": {
    "collapsed": true
   },
   "outputs": [],
   "source": [
    "import pandas as pd\n",
    "import weightedcalcs"
   ]
  },
  {
   "cell_type": "code",
   "execution_count": 2,
   "metadata": {
    "collapsed": true
   },
   "outputs": [],
   "source": [
    "wc = weightedcalcs.Calculator(\"Weightvar\")"
   ]
  },
  {
   "cell_type": "code",
   "execution_count": 3,
   "metadata": {
    "collapsed": true
   },
   "outputs": [],
   "source": [
    "responses = pd.read_csv(\"../data/survey-responses.csv\")"
   ]
  },
  {
   "cell_type": "code",
   "execution_count": 4,
   "metadata": {
    "collapsed": true
   },
   "outputs": [],
   "source": [
    "USAGE_Qs = {\n",
    "    \"DYN101\": \"Social media (generally)\",\n",
    "    \"DYN102\": \"Facebook\",\n",
    "    \"DYN103\": \"Twitter\",\n",
    "    \"DYN104\": \"Snapchat\",\n",
    "    \"DYN105\": \"YouTube\",\n",
    "    \"DYN106\": \"Online-only news publications\",\n",
    "    \"DYN107\": \"Newspapers’ websites\",\n",
    "    \"DYN108\": \"Cable news\",\n",
    "    \"DYN109\": \"Broadcast TV news\",\n",
    "    \"DYN110\": \"Print newspapers\",\n",
    "    \"DYN111\": \"News radio\",\n",
    "    \"DYN112\": \"Talk radio\",\n",
    "    \"DYN113\": \"None of these\",\n",
    "}"
   ]
  },
  {
   "cell_type": "code",
   "execution_count": 5,
   "metadata": {
    "collapsed": false
   },
   "outputs": [
    {
     "data": {
      "text/html": [
       "<div>\n",
       "<table border=\"1\" class=\"dataframe\">\n",
       "  <thead>\n",
       "    <tr style=\"text-align: right;\">\n",
       "      <th></th>\n",
       "      <th>ID</th>\n",
       "      <th>platform</th>\n",
       "      <th>usage</th>\n",
       "    </tr>\n",
       "  </thead>\n",
       "  <tbody>\n",
       "    <tr>\n",
       "      <th>0</th>\n",
       "      <td>1035214017</td>\n",
       "      <td>Cable news</td>\n",
       "      <td>0</td>\n",
       "    </tr>\n",
       "    <tr>\n",
       "      <th>1</th>\n",
       "      <td>1143047381</td>\n",
       "      <td>Cable news</td>\n",
       "      <td>0</td>\n",
       "    </tr>\n",
       "    <tr>\n",
       "      <th>2</th>\n",
       "      <td>C1461636059</td>\n",
       "      <td>Cable news</td>\n",
       "      <td>1</td>\n",
       "    </tr>\n",
       "    <tr>\n",
       "      <th>3</th>\n",
       "      <td>C1461636326</td>\n",
       "      <td>Cable news</td>\n",
       "      <td>1</td>\n",
       "    </tr>\n",
       "    <tr>\n",
       "      <th>4</th>\n",
       "      <td>1148320559</td>\n",
       "      <td>Cable news</td>\n",
       "      <td>0</td>\n",
       "    </tr>\n",
       "  </tbody>\n",
       "</table>\n",
       "</div>"
      ],
      "text/plain": [
       "            ID    platform  usage\n",
       "0   1035214017  Cable news      0\n",
       "1   1143047381  Cable news      0\n",
       "2  C1461636059  Cable news      1\n",
       "3  C1461636326  Cable news      1\n",
       "4   1148320559  Cable news      0"
      ]
     },
     "execution_count": 5,
     "metadata": {},
     "output_type": "execute_result"
    }
   ],
   "source": [
    "tidy_usage = responses[list(USAGE_Qs.keys()) + [ \"ID\" ]]\\\n",
    "    .rename(columns=USAGE_Qs)\\\n",
    "    .pipe(pd.melt, id_vars=[\"ID\"], var_name=\"platform\", value_name=\"usage\")\n",
    "tidy_usage.head()"
   ]
  },
  {
   "cell_type": "code",
   "execution_count": 6,
   "metadata": {
    "collapsed": false
   },
   "outputs": [],
   "source": [
    "TRUST_Qs = {\n",
    "    \"GRID_DYN2_1_DYN2\": \"Social media (generally)\",\n",
    "    \"GRID_DYN2_2_DYN2\": \"Facebook\",\n",
    "    \"GRID_DYN2_3_DYN2\": \"Twitter\",\n",
    "    \"GRID_DYN2_4_DYN2\": \"Snapchat\",\n",
    "    \"GRID_DYN2_5_DYN2\": \"YouTube\",\n",
    "    \"GRID_DYN2_6_DYN2\": \"Online-only news publications\",\n",
    "    \"GRID_DYN2_7_DYN2\": \"Cable news\",\n",
    "    \"GRID_DYN2_8_DYN2\": \"Broadcast TV news\",\n",
    "    \"GRID_DYN2_9_DYN2\": \"Newspapers’ websites\",\n",
    "    \"GRID_DYN2_10_DYN2\": \"Print newspapers\",\n",
    "    \"GRID_DYN2_11_DYN2\": \"News radio\",\n",
    "    \"GRID_DYN2_12_DYN2\": \"Talk radio\",\n",
    "}"
   ]
  },
  {
   "cell_type": "code",
   "execution_count": 7,
   "metadata": {
    "collapsed": false
   },
   "outputs": [
    {
     "data": {
      "text/html": [
       "<div>\n",
       "<table border=\"1\" class=\"dataframe\">\n",
       "  <thead>\n",
       "    <tr style=\"text-align: right;\">\n",
       "      <th></th>\n",
       "      <th>ID</th>\n",
       "      <th>platform</th>\n",
       "      <th>trust</th>\n",
       "    </tr>\n",
       "  </thead>\n",
       "  <tbody>\n",
       "    <tr>\n",
       "      <th>0</th>\n",
       "      <td>1035214017</td>\n",
       "      <td>Talk radio</td>\n",
       "      <td>5</td>\n",
       "    </tr>\n",
       "    <tr>\n",
       "      <th>1</th>\n",
       "      <td>1143047381</td>\n",
       "      <td>Talk radio</td>\n",
       "      <td>2</td>\n",
       "    </tr>\n",
       "    <tr>\n",
       "      <th>2</th>\n",
       "      <td>C1461636059</td>\n",
       "      <td>Talk radio</td>\n",
       "      <td>2</td>\n",
       "    </tr>\n",
       "    <tr>\n",
       "      <th>3</th>\n",
       "      <td>C1461636326</td>\n",
       "      <td>Talk radio</td>\n",
       "      <td>4</td>\n",
       "    </tr>\n",
       "    <tr>\n",
       "      <th>4</th>\n",
       "      <td>1148320559</td>\n",
       "      <td>Talk radio</td>\n",
       "      <td>2</td>\n",
       "    </tr>\n",
       "  </tbody>\n",
       "</table>\n",
       "</div>"
      ],
      "text/plain": [
       "            ID    platform  trust\n",
       "0   1035214017  Talk radio      5\n",
       "1   1143047381  Talk radio      2\n",
       "2  C1461636059  Talk radio      2\n",
       "3  C1461636326  Talk radio      4\n",
       "4   1148320559  Talk radio      2"
      ]
     },
     "execution_count": 7,
     "metadata": {},
     "output_type": "execute_result"
    }
   ],
   "source": [
    "tidy_trust = responses[list(TRUST_Qs.keys()) + [ \"ID\" ]]\\\n",
    "    .rename(columns=TRUST_Qs)\\\n",
    "    .pipe(pd.melt, id_vars=[\"ID\"], var_name=\"platform\", value_name=\"trust\")\n",
    "tidy_trust.head()"
   ]
  },
  {
   "cell_type": "code",
   "execution_count": 8,
   "metadata": {
    "collapsed": false
   },
   "outputs": [
    {
     "data": {
      "text/html": [
       "<div>\n",
       "<table border=\"1\" class=\"dataframe\">\n",
       "  <thead>\n",
       "    <tr style=\"text-align: right;\">\n",
       "      <th></th>\n",
       "      <th>platform</th>\n",
       "      <th>usage</th>\n",
       "      <th>trust</th>\n",
       "      <th>Weightvar</th>\n",
       "      <th>trust_mostly_or_always</th>\n",
       "      <th>trust_rarely_or_never</th>\n",
       "    </tr>\n",
       "    <tr>\n",
       "      <th>ID</th>\n",
       "      <th></th>\n",
       "      <th></th>\n",
       "      <th></th>\n",
       "      <th></th>\n",
       "      <th></th>\n",
       "      <th></th>\n",
       "    </tr>\n",
       "  </thead>\n",
       "  <tbody>\n",
       "    <tr>\n",
       "      <th>1001559731</th>\n",
       "      <td>Cable news</td>\n",
       "      <td>0</td>\n",
       "      <td>2</td>\n",
       "      <td>1.24412</td>\n",
       "      <td>True</td>\n",
       "      <td>False</td>\n",
       "    </tr>\n",
       "    <tr>\n",
       "      <th>1001559731</th>\n",
       "      <td>Talk radio</td>\n",
       "      <td>0</td>\n",
       "      <td>2</td>\n",
       "      <td>1.24412</td>\n",
       "      <td>True</td>\n",
       "      <td>False</td>\n",
       "    </tr>\n",
       "    <tr>\n",
       "      <th>1001559731</th>\n",
       "      <td>Newspapers’ websites</td>\n",
       "      <td>0</td>\n",
       "      <td>2</td>\n",
       "      <td>1.24412</td>\n",
       "      <td>True</td>\n",
       "      <td>False</td>\n",
       "    </tr>\n",
       "    <tr>\n",
       "      <th>1001559731</th>\n",
       "      <td>Social media (generally)</td>\n",
       "      <td>0</td>\n",
       "      <td>4</td>\n",
       "      <td>1.24412</td>\n",
       "      <td>False</td>\n",
       "      <td>True</td>\n",
       "    </tr>\n",
       "    <tr>\n",
       "      <th>1001559731</th>\n",
       "      <td>News radio</td>\n",
       "      <td>0</td>\n",
       "      <td>2</td>\n",
       "      <td>1.24412</td>\n",
       "      <td>True</td>\n",
       "      <td>False</td>\n",
       "    </tr>\n",
       "  </tbody>\n",
       "</table>\n",
       "</div>"
      ],
      "text/plain": [
       "                            platform  usage  trust  Weightvar  \\\n",
       "ID                                                              \n",
       "1001559731                Cable news      0      2    1.24412   \n",
       "1001559731                Talk radio      0      2    1.24412   \n",
       "1001559731      Newspapers’ websites      0      2    1.24412   \n",
       "1001559731  Social media (generally)      0      4    1.24412   \n",
       "1001559731                News radio      0      2    1.24412   \n",
       "\n",
       "           trust_mostly_or_always trust_rarely_or_never  \n",
       "ID                                                       \n",
       "1001559731                   True                 False  \n",
       "1001559731                   True                 False  \n",
       "1001559731                   True                 False  \n",
       "1001559731                  False                  True  \n",
       "1001559731                   True                 False  "
      ]
     },
     "execution_count": 8,
     "metadata": {},
     "output_type": "execute_result"
    }
   ],
   "source": [
    "tidy_responses = pd.merge(\n",
    "    tidy_usage,\n",
    "    tidy_trust,\n",
    "    on=[\"ID\", \"platform\"]\n",
    ").set_index(\"ID\").join(responses.set_index(\"ID\")[[\"Weightvar\"]])\n",
    "tidy_responses[\"trust_mostly_or_always\"] = tidy_responses[\"trust\"].isin([ 1, 2 ])\n",
    "tidy_responses[\"trust_rarely_or_never\"] = tidy_responses[\"trust\"].isin([ 4, 5 ])\n",
    "tidy_responses.head()"
   ]
  },
  {
   "cell_type": "markdown",
   "metadata": {},
   "source": [
    "## Analyze results"
   ]
  },
  {
   "cell_type": "markdown",
   "metadata": {},
   "source": [
    "### Gotten news through platform in past month"
   ]
  },
  {
   "cell_type": "code",
   "execution_count": 9,
   "metadata": {
    "collapsed": false
   },
   "outputs": [
    {
     "data": {
      "text/plain": [
       "platform\n",
       "Broadcast TV news                0.56\n",
       "Facebook                         0.55\n",
       "Print newspapers                 0.39\n",
       "Cable news                       0.38\n",
       "Social media (generally)         0.33\n",
       "Newspapers’ websites             0.33\n",
       "News radio                       0.27\n",
       "YouTube                          0.25\n",
       "Online-only news publications    0.23\n",
       "Twitter                          0.20\n",
       "Talk radio                       0.17\n",
       "Snapchat                         0.12\n",
       "dtype: float64"
      ]
     },
     "execution_count": 9,
     "metadata": {},
     "output_type": "execute_result"
    }
   ],
   "source": [
    "wc.mean(tidy_responses.groupby(\"platform\"), \"usage\").sort_values(ascending=False).round(2)"
   ]
  },
  {
   "cell_type": "markdown",
   "metadata": {},
   "source": [
    "### Trust: distribution of responses"
   ]
  },
  {
   "cell_type": "code",
   "execution_count": 10,
   "metadata": {
    "collapsed": false
   },
   "outputs": [
    {
     "data": {
      "text/html": [
       "<div>\n",
       "<table border=\"1\" class=\"dataframe\">\n",
       "  <thead>\n",
       "    <tr style=\"text-align: right;\">\n",
       "      <th>trust</th>\n",
       "      <th>All of the time</th>\n",
       "      <th>Most of the time</th>\n",
       "      <th>About half the time</th>\n",
       "      <th>Rarely</th>\n",
       "      <th>Almost never</th>\n",
       "      <th>Don’t know</th>\n",
       "    </tr>\n",
       "    <tr>\n",
       "      <th>platform</th>\n",
       "      <th></th>\n",
       "      <th></th>\n",
       "      <th></th>\n",
       "      <th></th>\n",
       "      <th></th>\n",
       "      <th></th>\n",
       "    </tr>\n",
       "  </thead>\n",
       "  <tbody>\n",
       "    <tr>\n",
       "      <th>Broadcast TV news</th>\n",
       "      <td>0.15</td>\n",
       "      <td>0.44</td>\n",
       "      <td>0.28</td>\n",
       "      <td>0.07</td>\n",
       "      <td>0.04</td>\n",
       "      <td>0.02</td>\n",
       "    </tr>\n",
       "    <tr>\n",
       "      <th>Print newspapers</th>\n",
       "      <td>0.14</td>\n",
       "      <td>0.45</td>\n",
       "      <td>0.24</td>\n",
       "      <td>0.08</td>\n",
       "      <td>0.06</td>\n",
       "      <td>0.04</td>\n",
       "    </tr>\n",
       "    <tr>\n",
       "      <th>Newspapers’ websites</th>\n",
       "      <td>0.12</td>\n",
       "      <td>0.41</td>\n",
       "      <td>0.24</td>\n",
       "      <td>0.10</td>\n",
       "      <td>0.06</td>\n",
       "      <td>0.07</td>\n",
       "    </tr>\n",
       "    <tr>\n",
       "      <th>Cable news</th>\n",
       "      <td>0.12</td>\n",
       "      <td>0.38</td>\n",
       "      <td>0.27</td>\n",
       "      <td>0.10</td>\n",
       "      <td>0.06</td>\n",
       "      <td>0.07</td>\n",
       "    </tr>\n",
       "    <tr>\n",
       "      <th>YouTube</th>\n",
       "      <td>0.08</td>\n",
       "      <td>0.10</td>\n",
       "      <td>0.25</td>\n",
       "      <td>0.25</td>\n",
       "      <td>0.15</td>\n",
       "      <td>0.18</td>\n",
       "    </tr>\n",
       "    <tr>\n",
       "      <th>News radio</th>\n",
       "      <td>0.08</td>\n",
       "      <td>0.42</td>\n",
       "      <td>0.26</td>\n",
       "      <td>0.10</td>\n",
       "      <td>0.08</td>\n",
       "      <td>0.07</td>\n",
       "    </tr>\n",
       "    <tr>\n",
       "      <th>Facebook</th>\n",
       "      <td>0.07</td>\n",
       "      <td>0.11</td>\n",
       "      <td>0.30</td>\n",
       "      <td>0.27</td>\n",
       "      <td>0.17</td>\n",
       "      <td>0.08</td>\n",
       "    </tr>\n",
       "    <tr>\n",
       "      <th>Online-only news publications</th>\n",
       "      <td>0.06</td>\n",
       "      <td>0.29</td>\n",
       "      <td>0.33</td>\n",
       "      <td>0.14</td>\n",
       "      <td>0.07</td>\n",
       "      <td>0.10</td>\n",
       "    </tr>\n",
       "    <tr>\n",
       "      <th>Social media (generally)</th>\n",
       "      <td>0.05</td>\n",
       "      <td>0.10</td>\n",
       "      <td>0.31</td>\n",
       "      <td>0.28</td>\n",
       "      <td>0.17</td>\n",
       "      <td>0.09</td>\n",
       "    </tr>\n",
       "    <tr>\n",
       "      <th>Twitter</th>\n",
       "      <td>0.05</td>\n",
       "      <td>0.10</td>\n",
       "      <td>0.17</td>\n",
       "      <td>0.22</td>\n",
       "      <td>0.22</td>\n",
       "      <td>0.24</td>\n",
       "    </tr>\n",
       "    <tr>\n",
       "      <th>Talk radio</th>\n",
       "      <td>0.05</td>\n",
       "      <td>0.30</td>\n",
       "      <td>0.33</td>\n",
       "      <td>0.14</td>\n",
       "      <td>0.10</td>\n",
       "      <td>0.09</td>\n",
       "    </tr>\n",
       "    <tr>\n",
       "      <th>Snapchat</th>\n",
       "      <td>0.03</td>\n",
       "      <td>0.07</td>\n",
       "      <td>0.11</td>\n",
       "      <td>0.20</td>\n",
       "      <td>0.28</td>\n",
       "      <td>0.31</td>\n",
       "    </tr>\n",
       "  </tbody>\n",
       "</table>\n",
       "</div>"
      ],
      "text/plain": [
       "trust                          All of the time  Most of the time  \\\n",
       "platform                                                           \n",
       "Broadcast TV news                         0.15              0.44   \n",
       "Print newspapers                          0.14              0.45   \n",
       "Newspapers’ websites                      0.12              0.41   \n",
       "Cable news                                0.12              0.38   \n",
       "YouTube                                   0.08              0.10   \n",
       "News radio                                0.08              0.42   \n",
       "Facebook                                  0.07              0.11   \n",
       "Online-only news publications             0.06              0.29   \n",
       "Social media (generally)                  0.05              0.10   \n",
       "Twitter                                   0.05              0.10   \n",
       "Talk radio                                0.05              0.30   \n",
       "Snapchat                                  0.03              0.07   \n",
       "\n",
       "trust                          About half the time  Rarely  Almost never  \\\n",
       "platform                                                                   \n",
       "Broadcast TV news                             0.28    0.07          0.04   \n",
       "Print newspapers                              0.24    0.08          0.06   \n",
       "Newspapers’ websites                          0.24    0.10          0.06   \n",
       "Cable news                                    0.27    0.10          0.06   \n",
       "YouTube                                       0.25    0.25          0.15   \n",
       "News radio                                    0.26    0.10          0.08   \n",
       "Facebook                                      0.30    0.27          0.17   \n",
       "Online-only news publications                 0.33    0.14          0.07   \n",
       "Social media (generally)                      0.31    0.28          0.17   \n",
       "Twitter                                       0.17    0.22          0.22   \n",
       "Talk radio                                    0.33    0.14          0.10   \n",
       "Snapchat                                      0.11    0.20          0.28   \n",
       "\n",
       "trust                          Don’t know  \n",
       "platform                                   \n",
       "Broadcast TV news                    0.02  \n",
       "Print newspapers                     0.04  \n",
       "Newspapers’ websites                 0.07  \n",
       "Cable news                           0.07  \n",
       "YouTube                              0.18  \n",
       "News radio                           0.07  \n",
       "Facebook                             0.08  \n",
       "Online-only news publications        0.10  \n",
       "Social media (generally)             0.09  \n",
       "Twitter                              0.24  \n",
       "Talk radio                           0.09  \n",
       "Snapchat                             0.31  "
      ]
     },
     "execution_count": 10,
     "metadata": {},
     "output_type": "execute_result"
    }
   ],
   "source": [
    "wc.distribution(tidy_responses.groupby(\"platform\"), \"trust\")\\\n",
    "    .rename(columns={\n",
    "        1: \"All of the time\",\n",
    "        2: \"Most of the time\",\n",
    "        3: \"About half the time\",\n",
    "        4: \"Rarely\",\n",
    "        5: \"Almost never\",\n",
    "        6: \"Don’t know\"\n",
    "    }).sort_values(\"All of the time\", ascending=False).round(2)"
   ]
  },
  {
   "cell_type": "markdown",
   "metadata": {},
   "source": [
    "### Trust: \"all of the time\" + \"most of the time\""
   ]
  },
  {
   "cell_type": "code",
   "execution_count": 11,
   "metadata": {
    "collapsed": false
   },
   "outputs": [
    {
     "data": {
      "text/plain": [
       "platform\n",
       "Broadcast TV news                0.59\n",
       "Print newspapers                 0.58\n",
       "Newspapers’ websites             0.54\n",
       "Cable news                       0.50\n",
       "News radio                       0.50\n",
       "Online-only news publications    0.35\n",
       "Talk radio                       0.34\n",
       "YouTube                          0.18\n",
       "Facebook                         0.18\n",
       "Social media (generally)         0.15\n",
       "Twitter                          0.15\n",
       "Snapchat                         0.10\n",
       "dtype: float64"
      ]
     },
     "execution_count": 11,
     "metadata": {},
     "output_type": "execute_result"
    }
   ],
   "source": [
    "wc.mean(tidy_responses.groupby(\"platform\"), \"trust_mostly_or_always\")\\\n",
    "    .sort_values(ascending=False).round(2)"
   ]
  },
  {
   "cell_type": "markdown",
   "metadata": {},
   "source": [
    "### Trust: \"rarely\" + \"almost never\""
   ]
  },
  {
   "cell_type": "code",
   "execution_count": 12,
   "metadata": {
    "collapsed": false
   },
   "outputs": [
    {
     "data": {
      "text/plain": [
       "platform\n",
       "Snapchat                         0.47\n",
       "Social media (generally)         0.45\n",
       "Facebook                         0.44\n",
       "Twitter                          0.44\n",
       "YouTube                          0.40\n",
       "Talk radio                       0.24\n",
       "Online-only news publications    0.21\n",
       "News radio                       0.17\n",
       "Cable news                       0.16\n",
       "Newspapers’ websites             0.16\n",
       "Print newspapers                 0.14\n",
       "Broadcast TV news                0.12\n",
       "dtype: float64"
      ]
     },
     "execution_count": 12,
     "metadata": {},
     "output_type": "execute_result"
    }
   ],
   "source": [
    "wc.mean(tidy_responses.groupby(\"platform\"), \"trust_rarely_or_never\")\\\n",
    "    .sort_values(ascending=False).round(2)"
   ]
  },
  {
   "cell_type": "markdown",
   "metadata": {},
   "source": [
    "### Trust in news on platform *among people who said they had gotten news there*"
   ]
  },
  {
   "cell_type": "code",
   "execution_count": 13,
   "metadata": {
    "collapsed": false
   },
   "outputs": [
    {
     "data": {
      "text/plain": [
       "platform\n",
       "Print newspapers                 0.74\n",
       "Newspapers’ websites             0.69\n",
       "News radio                       0.68\n",
       "Broadcast TV news                0.66\n",
       "Cable news                       0.65\n",
       "Talk radio                       0.57\n",
       "Online-only news publications    0.55\n",
       "YouTube                          0.53\n",
       "Twitter                          0.49\n",
       "Snapchat                         0.47\n",
       "Facebook                         0.27\n",
       "Social media (generally)         0.25\n",
       "dtype: float64"
      ]
     },
     "execution_count": 13,
     "metadata": {},
     "output_type": "execute_result"
    }
   ],
   "source": [
    "wc.mean(tidy_responses[\n",
    "    (tidy_responses[\"usage\"] == 1)\n",
    "].groupby(\"platform\"), \"trust_mostly_or_always\")\\\n",
    "    .round(2).sort_values(ascending=False)"
   ]
  },
  {
   "cell_type": "markdown",
   "metadata": {},
   "source": [
    "---\n",
    "\n",
    "---\n",
    "\n",
    "---"
   ]
  }
 ],
 "metadata": {
  "kernelspec": {
   "display_name": "Python 3",
   "language": "python",
   "name": "python3"
  },
  "language_info": {
   "codemirror_mode": {
    "name": "ipython",
    "version": 3
   },
   "file_extension": ".py",
   "mimetype": "text/x-python",
   "name": "python",
   "nbconvert_exporter": "python",
   "pygments_lexer": "ipython3",
   "version": "3.4.3"
  }
 },
 "nbformat": 4,
 "nbformat_minor": 1
}
