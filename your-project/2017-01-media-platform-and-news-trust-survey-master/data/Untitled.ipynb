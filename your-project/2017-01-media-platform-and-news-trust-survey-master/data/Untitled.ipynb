{
 "cells": [
  {
   "cell_type": "code",
   "execution_count": 1,
   "metadata": {},
   "outputs": [],
   "source": [
    "import pandas as pd"
   ]
  },
  {
   "cell_type": "code",
   "execution_count": 2,
   "metadata": {},
   "outputs": [],
   "source": [
    "survey = pd.read_csv(\"survey-responses.csv\")"
   ]
  },
  {
   "cell_type": "code",
   "execution_count": 7,
   "metadata": {},
   "outputs": [
    {
     "data": {
      "text/plain": [
       "(1007, 364)"
      ]
     },
     "execution_count": 7,
     "metadata": {},
     "output_type": "execute_result"
    }
   ],
   "source": [
    "survey.shape"
   ]
  },
  {
   "cell_type": "code",
   "execution_count": 11,
   "metadata": {},
   "outputs": [
    {
     "data": {
      "text/plain": [
       "Respondent_Serial                        0\n",
       "ID                                       0\n",
       "ReturnCode                               0\n",
       "IDType                                   0\n",
       "USHOU1                                   0\n",
       "MRK_SMPGRP                               0\n",
       "MRK_SMPSRC                               0\n",
       "IISPanelistID                          813\n",
       "DP_INCOME                                0\n",
       "DP_GENAGE                                0\n",
       "DP_EDUCATION_BAN                         0\n",
       "DP_HISPANIC_BAN                          0\n",
       "DP_USHHI2_der                            0\n",
       "usedu3_der                               0\n",
       "usmar2_der                               0\n",
       "EMP01_der                                0\n",
       "USRACE4_der                              0\n",
       "USRETH3_der                              0\n",
       "HADD_ZipCode_US                          0\n",
       "HCAL_REGION1_US                          0\n",
       "HCAL_REGION1_Label_abbreviation_US       0\n",
       "HCAL_REGION1_Label_US                    0\n",
       "HCAL_Region3_US                          0\n",
       "HCAL_Region3_Label_US                    0\n",
       "HCAL_Region2_US                          0\n",
       "HCAL_Region2_Label_US                    0\n",
       "HCAL_AGGLO_CODE_US                       0\n",
       "HCAL_AGGLO_CODE_Label_US                 0\n",
       "HCAL_MktSize_US                          0\n",
       "HCAL_MktSize_Label_US                    0\n",
       "                                      ... \n",
       "DKIDS01_7_DKIDS01_YoB                 1007\n",
       "DKIDS01_8_DKIDS01_YoB                 1007\n",
       "DKIDS01_9_DKIDS01_YoB                 1007\n",
       "DKIDS01_10_DKIDS01_YoB                1007\n",
       "DKIDS01_11_DKIDS01_YoB                1007\n",
       "DKIDS01_12_DKIDS01_YoB                1007\n",
       "DKIDS01_1_DKIDS01_MoB                  690\n",
       "DKIDS01_2_DKIDS01_MoB                  822\n",
       "DKIDS01_3_DKIDS01_MoB                  959\n",
       "DKIDS01_4_DKIDS01_MoB                  992\n",
       "DKIDS01_5_DKIDS01_MoB                 1006\n",
       "DKIDS01_6_DKIDS01_MoB                 1007\n",
       "DKIDS01_7_DKIDS01_MoB                 1007\n",
       "DKIDS01_8_DKIDS01_MoB                 1007\n",
       "DKIDS01_9_DKIDS01_MoB                 1007\n",
       "DKIDS01_10_DKIDS01_MoB                1007\n",
       "DKIDS01_11_DKIDS01_MoB                1007\n",
       "DKIDS01_12_DKIDS01_MoB                1007\n",
       "DKIDS01_1_DKIDS01_Rel                  690\n",
       "DKIDS01_2_DKIDS01_Rel                  822\n",
       "DKIDS01_3_DKIDS01_Rel                  959\n",
       "DKIDS01_4_DKIDS01_Rel                  992\n",
       "DKIDS01_5_DKIDS01_Rel                 1006\n",
       "DKIDS01_6_DKIDS01_Rel                 1007\n",
       "DKIDS01_7_DKIDS01_Rel                 1007\n",
       "DKIDS01_8_DKIDS01_Rel                 1007\n",
       "DKIDS01_9_DKIDS01_Rel                 1007\n",
       "DKIDS01_10_DKIDS01_Rel                1007\n",
       "DKIDS01_11_DKIDS01_Rel                1007\n",
       "DKIDS01_12_DKIDS01_Rel                1007\n",
       "Length: 364, dtype: int64"
      ]
     },
     "execution_count": 11,
     "metadata": {},
     "output_type": "execute_result"
    }
   ],
   "source": [
    "survey.isnull().sum()"
   ]
  },
  {
   "cell_type": "code",
   "execution_count": null,
   "metadata": {},
   "outputs": [],
   "source": []
  }
 ],
 "metadata": {
  "kernelspec": {
   "display_name": "Python 3",
   "language": "python",
   "name": "python3"
  },
  "language_info": {
   "codemirror_mode": {
    "name": "ipython",
    "version": 3
   },
   "file_extension": ".py",
   "mimetype": "text/x-python",
   "name": "python",
   "nbconvert_exporter": "python",
   "pygments_lexer": "ipython3",
   "version": "3.7.3"
  }
 },
 "nbformat": 4,
 "nbformat_minor": 2
}
